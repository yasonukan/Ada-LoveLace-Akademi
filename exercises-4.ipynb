{
 "cells": [
  {
   "cell_type": "code",
   "execution_count": null,
   "metadata": {},
   "outputs": [],
   "source": [
    "# pip install requests pandas"
   ]
  },
  {
   "cell_type": "code",
   "execution_count": 1,
   "metadata": {},
   "outputs": [
    {
     "name": "stdout",
     "output_type": "stream",
     "text": [
      "       id                                             season  \\\n",
      "0  435943  {'id': 1564, 'startDate': '2023-08-11', 'endDa...   \n",
      "1  435944  {'id': 1564, 'startDate': '2023-08-11', 'endDa...   \n",
      "2  435945  {'id': 1564, 'startDate': '2023-08-11', 'endDa...   \n",
      "3  435946  {'id': 1564, 'startDate': '2023-08-11', 'endDa...   \n",
      "4  435947  {'id': 1564, 'startDate': '2023-08-11', 'endDa...   \n",
      "\n",
      "                utcDate    status  matchday           stage group  \\\n",
      "0  2023-08-11T19:00:00Z  FINISHED         1  REGULAR_SEASON  None   \n",
      "1  2023-08-12T12:00:00Z  FINISHED         1  REGULAR_SEASON  None   \n",
      "2  2023-08-12T14:00:00Z  FINISHED         1  REGULAR_SEASON  None   \n",
      "3  2023-08-12T14:00:00Z  FINISHED         1  REGULAR_SEASON  None   \n",
      "4  2023-08-12T14:00:00Z  FINISHED         1  REGULAR_SEASON  None   \n",
      "\n",
      "            lastUpdated                                               odds  \\\n",
      "0  2023-12-22T00:20:43Z  {'msg': 'Activate Odds-Package in User-Panel t...   \n",
      "1  2023-09-19T20:20:30Z  {'msg': 'Activate Odds-Package in User-Panel t...   \n",
      "2  2023-09-19T20:20:30Z  {'msg': 'Activate Odds-Package in User-Panel t...   \n",
      "3  2023-09-19T20:20:30Z  {'msg': 'Activate Odds-Package in User-Panel t...   \n",
      "4  2023-09-19T20:20:30Z  {'msg': 'Activate Odds-Package in User-Panel t...   \n",
      "\n",
      "                                               score  \\\n",
      "0  {'winner': 'AWAY_TEAM', 'duration': 'REGULAR',...   \n",
      "1  {'winner': 'HOME_TEAM', 'duration': 'REGULAR',...   \n",
      "2  {'winner': 'DRAW', 'duration': 'REGULAR', 'ful...   \n",
      "3  {'winner': 'HOME_TEAM', 'duration': 'REGULAR',...   \n",
      "4  {'winner': 'AWAY_TEAM', 'duration': 'REGULAR',...   \n",
      "\n",
      "                                           homeTeam  \\\n",
      "0                 {'id': 328, 'name': 'Burnley FC'}   \n",
      "1                  {'id': 57, 'name': 'Arsenal FC'}   \n",
      "2           {'id': 1044, 'name': 'AFC Bournemouth'}   \n",
      "3  {'id': 397, 'name': 'Brighton & Hove Albion FC'}   \n",
      "4                  {'id': 62, 'name': 'Everton FC'}   \n",
      "\n",
      "                                      awayTeam  \\\n",
      "0     {'id': 65, 'name': 'Manchester City FC'}   \n",
      "1  {'id': 351, 'name': 'Nottingham Forest FC'}   \n",
      "2    {'id': 563, 'name': 'West Ham United FC'}   \n",
      "3         {'id': 389, 'name': 'Luton Town FC'}   \n",
      "4              {'id': 63, 'name': 'Fulham FC'}   \n",
      "\n",
      "                                            referees  \n",
      "0  [{'id': 11585, 'name': 'Craig Pawson', 'role':...  \n",
      "1  [{'id': 11605, 'name': 'Michael Oliver', 'role...  \n",
      "2  [{'id': 11309, 'name': 'Peter Bankes', 'role':...  \n",
      "3  [{'id': 11556, 'name': 'David Coote', 'role': ...  \n",
      "4  [{'id': 11494, 'name': 'Stuart Attwell', 'role...  \n"
     ]
    }
   ],
   "source": [
    "import requests\n",
    "import pandas as pd\n",
    "\n",
    "# Football-Data.org API anahtarınızı buraya ekleyin\n",
    "api_key = ''\n",
    "\n",
    "# Örnek bir istek yapalım (örneğin Premier League'in sonuçlarını alalım)\n",
    "url = 'https://api.football-data.org/v2/competitions/PL/matches'\n",
    "headers = {'X-Auth-Token': api_key}\n",
    "\n",
    "response = requests.get(url, headers=headers)\n",
    "\n",
    "if response.status_code == 200:\n",
    "    # API'den gelen veriyi JSON formatına çeviriyoruz\n",
    "    data = response.json()\n",
    "    \n",
    "    # JSON verisinden DataFrame oluşturma\n",
    "    matches = pd.DataFrame(data['matches'])\n",
    "    \n",
    "    # DataFrame'i gösterme veya kullanma\n",
    "    print(matches.head())  # DataFrame'i ekrana bastırma (örnek olarak ilk 5 satırı gösteriyoruz)\n",
    "else:\n",
    "    print(\"Data could not be received. HTTP Error Code:\", response.status_code)\n"
   ]
  },
  {
   "cell_type": "code",
   "execution_count": 5,
   "metadata": {},
   "outputs": [
    {
     "name": "stdout",
     "output_type": "stream",
     "text": [
      "<class 'pandas.core.frame.DataFrame'>\n",
      "RangeIndex: 380 entries, 0 to 379\n",
      "Data columns (total 13 columns):\n",
      " #   Column       Non-Null Count  Dtype \n",
      "---  ------       --------------  ----- \n",
      " 0   id           380 non-null    int64 \n",
      " 1   season       380 non-null    object\n",
      " 2   utcDate      380 non-null    object\n",
      " 3   status       380 non-null    object\n",
      " 4   matchday     380 non-null    int64 \n",
      " 5   stage        380 non-null    object\n",
      " 6   group        0 non-null      object\n",
      " 7   lastUpdated  380 non-null    object\n",
      " 8   odds         380 non-null    object\n",
      " 9   score        380 non-null    object\n",
      " 10  homeTeam     380 non-null    object\n",
      " 11  awayTeam     380 non-null    object\n",
      " 12  referees     380 non-null    object\n",
      "dtypes: int64(2), object(11)\n",
      "memory usage: 38.7+ KB\n"
     ]
    }
   ],
   "source": [
    "matches.info()"
   ]
  },
  {
   "cell_type": "code",
   "execution_count": 6,
   "metadata": {},
   "outputs": [
    {
     "data": {
      "text/html": [
       "<div>\n",
       "<style scoped>\n",
       "    .dataframe tbody tr th:only-of-type {\n",
       "        vertical-align: middle;\n",
       "    }\n",
       "\n",
       "    .dataframe tbody tr th {\n",
       "        vertical-align: top;\n",
       "    }\n",
       "\n",
       "    .dataframe thead th {\n",
       "        text-align: right;\n",
       "    }\n",
       "</style>\n",
       "<table border=\"1\" class=\"dataframe\">\n",
       "  <thead>\n",
       "    <tr style=\"text-align: right;\">\n",
       "      <th></th>\n",
       "      <th>id</th>\n",
       "      <th>matchday</th>\n",
       "    </tr>\n",
       "  </thead>\n",
       "  <tbody>\n",
       "    <tr>\n",
       "      <th>count</th>\n",
       "      <td>380.000000</td>\n",
       "      <td>380.000000</td>\n",
       "    </tr>\n",
       "    <tr>\n",
       "      <th>mean</th>\n",
       "      <td>436132.500000</td>\n",
       "      <td>19.500000</td>\n",
       "    </tr>\n",
       "    <tr>\n",
       "      <th>std</th>\n",
       "      <td>109.840794</td>\n",
       "      <td>10.980313</td>\n",
       "    </tr>\n",
       "    <tr>\n",
       "      <th>min</th>\n",
       "      <td>435943.000000</td>\n",
       "      <td>1.000000</td>\n",
       "    </tr>\n",
       "    <tr>\n",
       "      <th>25%</th>\n",
       "      <td>436037.750000</td>\n",
       "      <td>10.000000</td>\n",
       "    </tr>\n",
       "    <tr>\n",
       "      <th>50%</th>\n",
       "      <td>436132.500000</td>\n",
       "      <td>19.500000</td>\n",
       "    </tr>\n",
       "    <tr>\n",
       "      <th>75%</th>\n",
       "      <td>436227.250000</td>\n",
       "      <td>29.000000</td>\n",
       "    </tr>\n",
       "    <tr>\n",
       "      <th>max</th>\n",
       "      <td>436322.000000</td>\n",
       "      <td>38.000000</td>\n",
       "    </tr>\n",
       "  </tbody>\n",
       "</table>\n",
       "</div>"
      ],
      "text/plain": [
       "                  id    matchday\n",
       "count     380.000000  380.000000\n",
       "mean   436132.500000   19.500000\n",
       "std       109.840794   10.980313\n",
       "min    435943.000000    1.000000\n",
       "25%    436037.750000   10.000000\n",
       "50%    436132.500000   19.500000\n",
       "75%    436227.250000   29.000000\n",
       "max    436322.000000   38.000000"
      ]
     },
     "execution_count": 6,
     "metadata": {},
     "output_type": "execute_result"
    }
   ],
   "source": [
    "matches.describe()"
   ]
  },
  {
   "cell_type": "code",
   "execution_count": 7,
   "metadata": {},
   "outputs": [
    {
     "data": {
      "text/html": [
       "<div>\n",
       "<style scoped>\n",
       "    .dataframe tbody tr th:only-of-type {\n",
       "        vertical-align: middle;\n",
       "    }\n",
       "\n",
       "    .dataframe tbody tr th {\n",
       "        vertical-align: top;\n",
       "    }\n",
       "\n",
       "    .dataframe thead th {\n",
       "        text-align: right;\n",
       "    }\n",
       "</style>\n",
       "<table border=\"1\" class=\"dataframe\">\n",
       "  <thead>\n",
       "    <tr style=\"text-align: right;\">\n",
       "      <th></th>\n",
       "      <th>id</th>\n",
       "      <th>season</th>\n",
       "      <th>utcDate</th>\n",
       "      <th>status</th>\n",
       "      <th>matchday</th>\n",
       "      <th>stage</th>\n",
       "      <th>group</th>\n",
       "      <th>lastUpdated</th>\n",
       "      <th>odds</th>\n",
       "      <th>score</th>\n",
       "      <th>homeTeam</th>\n",
       "      <th>awayTeam</th>\n",
       "      <th>referees</th>\n",
       "    </tr>\n",
       "  </thead>\n",
       "  <tbody>\n",
       "    <tr>\n",
       "      <th>0</th>\n",
       "      <td>435943</td>\n",
       "      <td>{'id': 1564, 'startDate': '2023-08-11', 'endDa...</td>\n",
       "      <td>2023-08-11T19:00:00Z</td>\n",
       "      <td>FINISHED</td>\n",
       "      <td>1</td>\n",
       "      <td>REGULAR_SEASON</td>\n",
       "      <td>None</td>\n",
       "      <td>2023-12-22T00:20:43Z</td>\n",
       "      <td>{'msg': 'Activate Odds-Package in User-Panel t...</td>\n",
       "      <td>{'winner': 'AWAY_TEAM', 'duration': 'REGULAR',...</td>\n",
       "      <td>{'id': 328, 'name': 'Burnley FC'}</td>\n",
       "      <td>{'id': 65, 'name': 'Manchester City FC'}</td>\n",
       "      <td>[{'id': 11585, 'name': 'Craig Pawson', 'role':...</td>\n",
       "    </tr>\n",
       "    <tr>\n",
       "      <th>1</th>\n",
       "      <td>435944</td>\n",
       "      <td>{'id': 1564, 'startDate': '2023-08-11', 'endDa...</td>\n",
       "      <td>2023-08-12T12:00:00Z</td>\n",
       "      <td>FINISHED</td>\n",
       "      <td>1</td>\n",
       "      <td>REGULAR_SEASON</td>\n",
       "      <td>None</td>\n",
       "      <td>2023-09-19T20:20:30Z</td>\n",
       "      <td>{'msg': 'Activate Odds-Package in User-Panel t...</td>\n",
       "      <td>{'winner': 'HOME_TEAM', 'duration': 'REGULAR',...</td>\n",
       "      <td>{'id': 57, 'name': 'Arsenal FC'}</td>\n",
       "      <td>{'id': 351, 'name': 'Nottingham Forest FC'}</td>\n",
       "      <td>[{'id': 11605, 'name': 'Michael Oliver', 'role...</td>\n",
       "    </tr>\n",
       "    <tr>\n",
       "      <th>2</th>\n",
       "      <td>435945</td>\n",
       "      <td>{'id': 1564, 'startDate': '2023-08-11', 'endDa...</td>\n",
       "      <td>2023-08-12T14:00:00Z</td>\n",
       "      <td>FINISHED</td>\n",
       "      <td>1</td>\n",
       "      <td>REGULAR_SEASON</td>\n",
       "      <td>None</td>\n",
       "      <td>2023-09-19T20:20:30Z</td>\n",
       "      <td>{'msg': 'Activate Odds-Package in User-Panel t...</td>\n",
       "      <td>{'winner': 'DRAW', 'duration': 'REGULAR', 'ful...</td>\n",
       "      <td>{'id': 1044, 'name': 'AFC Bournemouth'}</td>\n",
       "      <td>{'id': 563, 'name': 'West Ham United FC'}</td>\n",
       "      <td>[{'id': 11309, 'name': 'Peter Bankes', 'role':...</td>\n",
       "    </tr>\n",
       "    <tr>\n",
       "      <th>3</th>\n",
       "      <td>435946</td>\n",
       "      <td>{'id': 1564, 'startDate': '2023-08-11', 'endDa...</td>\n",
       "      <td>2023-08-12T14:00:00Z</td>\n",
       "      <td>FINISHED</td>\n",
       "      <td>1</td>\n",
       "      <td>REGULAR_SEASON</td>\n",
       "      <td>None</td>\n",
       "      <td>2023-09-19T20:20:30Z</td>\n",
       "      <td>{'msg': 'Activate Odds-Package in User-Panel t...</td>\n",
       "      <td>{'winner': 'HOME_TEAM', 'duration': 'REGULAR',...</td>\n",
       "      <td>{'id': 397, 'name': 'Brighton &amp; Hove Albion FC'}</td>\n",
       "      <td>{'id': 389, 'name': 'Luton Town FC'}</td>\n",
       "      <td>[{'id': 11556, 'name': 'David Coote', 'role': ...</td>\n",
       "    </tr>\n",
       "    <tr>\n",
       "      <th>4</th>\n",
       "      <td>435947</td>\n",
       "      <td>{'id': 1564, 'startDate': '2023-08-11', 'endDa...</td>\n",
       "      <td>2023-08-12T14:00:00Z</td>\n",
       "      <td>FINISHED</td>\n",
       "      <td>1</td>\n",
       "      <td>REGULAR_SEASON</td>\n",
       "      <td>None</td>\n",
       "      <td>2023-09-19T20:20:30Z</td>\n",
       "      <td>{'msg': 'Activate Odds-Package in User-Panel t...</td>\n",
       "      <td>{'winner': 'AWAY_TEAM', 'duration': 'REGULAR',...</td>\n",
       "      <td>{'id': 62, 'name': 'Everton FC'}</td>\n",
       "      <td>{'id': 63, 'name': 'Fulham FC'}</td>\n",
       "      <td>[{'id': 11494, 'name': 'Stuart Attwell', 'role...</td>\n",
       "    </tr>\n",
       "  </tbody>\n",
       "</table>\n",
       "</div>"
      ],
      "text/plain": [
       "       id                                             season  \\\n",
       "0  435943  {'id': 1564, 'startDate': '2023-08-11', 'endDa...   \n",
       "1  435944  {'id': 1564, 'startDate': '2023-08-11', 'endDa...   \n",
       "2  435945  {'id': 1564, 'startDate': '2023-08-11', 'endDa...   \n",
       "3  435946  {'id': 1564, 'startDate': '2023-08-11', 'endDa...   \n",
       "4  435947  {'id': 1564, 'startDate': '2023-08-11', 'endDa...   \n",
       "\n",
       "                utcDate    status  matchday           stage group  \\\n",
       "0  2023-08-11T19:00:00Z  FINISHED         1  REGULAR_SEASON  None   \n",
       "1  2023-08-12T12:00:00Z  FINISHED         1  REGULAR_SEASON  None   \n",
       "2  2023-08-12T14:00:00Z  FINISHED         1  REGULAR_SEASON  None   \n",
       "3  2023-08-12T14:00:00Z  FINISHED         1  REGULAR_SEASON  None   \n",
       "4  2023-08-12T14:00:00Z  FINISHED         1  REGULAR_SEASON  None   \n",
       "\n",
       "            lastUpdated                                               odds  \\\n",
       "0  2023-12-22T00:20:43Z  {'msg': 'Activate Odds-Package in User-Panel t...   \n",
       "1  2023-09-19T20:20:30Z  {'msg': 'Activate Odds-Package in User-Panel t...   \n",
       "2  2023-09-19T20:20:30Z  {'msg': 'Activate Odds-Package in User-Panel t...   \n",
       "3  2023-09-19T20:20:30Z  {'msg': 'Activate Odds-Package in User-Panel t...   \n",
       "4  2023-09-19T20:20:30Z  {'msg': 'Activate Odds-Package in User-Panel t...   \n",
       "\n",
       "                                               score  \\\n",
       "0  {'winner': 'AWAY_TEAM', 'duration': 'REGULAR',...   \n",
       "1  {'winner': 'HOME_TEAM', 'duration': 'REGULAR',...   \n",
       "2  {'winner': 'DRAW', 'duration': 'REGULAR', 'ful...   \n",
       "3  {'winner': 'HOME_TEAM', 'duration': 'REGULAR',...   \n",
       "4  {'winner': 'AWAY_TEAM', 'duration': 'REGULAR',...   \n",
       "\n",
       "                                           homeTeam  \\\n",
       "0                 {'id': 328, 'name': 'Burnley FC'}   \n",
       "1                  {'id': 57, 'name': 'Arsenal FC'}   \n",
       "2           {'id': 1044, 'name': 'AFC Bournemouth'}   \n",
       "3  {'id': 397, 'name': 'Brighton & Hove Albion FC'}   \n",
       "4                  {'id': 62, 'name': 'Everton FC'}   \n",
       "\n",
       "                                      awayTeam  \\\n",
       "0     {'id': 65, 'name': 'Manchester City FC'}   \n",
       "1  {'id': 351, 'name': 'Nottingham Forest FC'}   \n",
       "2    {'id': 563, 'name': 'West Ham United FC'}   \n",
       "3         {'id': 389, 'name': 'Luton Town FC'}   \n",
       "4              {'id': 63, 'name': 'Fulham FC'}   \n",
       "\n",
       "                                            referees  \n",
       "0  [{'id': 11585, 'name': 'Craig Pawson', 'role':...  \n",
       "1  [{'id': 11605, 'name': 'Michael Oliver', 'role...  \n",
       "2  [{'id': 11309, 'name': 'Peter Bankes', 'role':...  \n",
       "3  [{'id': 11556, 'name': 'David Coote', 'role': ...  \n",
       "4  [{'id': 11494, 'name': 'Stuart Attwell', 'role...  "
      ]
     },
     "execution_count": 7,
     "metadata": {},
     "output_type": "execute_result"
    }
   ],
   "source": [
    "matches.head(5)"
   ]
  },
  {
   "cell_type": "code",
   "execution_count": 19,
   "metadata": {},
   "outputs": [
    {
     "data": {
      "text/plain": [
       "0    {'winner': 'AWAY_TEAM', 'duration': 'REGULAR',...\n",
       "1    {'winner': 'HOME_TEAM', 'duration': 'REGULAR',...\n",
       "2    {'winner': 'DRAW', 'duration': 'REGULAR', 'ful...\n",
       "3    {'winner': 'HOME_TEAM', 'duration': 'REGULAR',...\n",
       "4    {'winner': 'AWAY_TEAM', 'duration': 'REGULAR',...\n",
       "Name: score, dtype: object"
      ]
     },
     "execution_count": 19,
     "metadata": {},
     "output_type": "execute_result"
    }
   ],
   "source": [
    "matches.score"
   ]
  },
  {
   "cell_type": "code",
   "execution_count": 2,
   "metadata": {},
   "outputs": [
    {
     "data": {
      "image/png": "[encoded data removed]",
      "text/plain": [
       "<Figure size 1000x600 with 1 Axes>"
      ]
     },
     "metadata": {},
     "output_type": "display_data"
    }
   ],
   "source": [
    "import matplotlib.pyplot as plt\n",
    "\n",
    "\n",
    "# Ev sahibi ve deplasman takım gollerinin alınması\n",
    "home_goals = matches['score'].apply(lambda x: x['fullTime']['homeTeam'])\n",
    "away_goals = matches['score'].apply(lambda x: x['fullTime']['awayTeam'])\n",
    "\n",
    "# Grafik oluşturma\n",
    "plt.figure(figsize=(10, 6))\n",
    "\n",
    "plt.hist([home_goals, away_goals], bins=10, alpha=0.7, label=['Ev Sahibi Takım', 'Deplasman Takım'])\n",
    "plt.xlabel('Gol Sayısı')\n",
    "plt.ylabel('Maç Sayısı')\n",
    "plt.title('Ev Sahibi ve Deplasman Takım Gollerinin Dağılımı')\n",
    "plt.legend()\n",
    "\n",
    "plt.show()\n"
   ]
  },
  {
   "cell_type": "code",
   "execution_count": 8,
   "metadata": {},
   "outputs": [
    {
     "data": {
      "image/png": "[encoded data removed]",
      "text/plain": [
       "<Figure size 1000x600 with 1 Axes>"
      ]
     },
     "metadata": {},
     "output_type": "display_data"
    }
   ],
   "source": [
    "\n",
    "\n",
    "# Takımların attığı ve yediği gollerin alınması\n",
    "teams = matches['homeTeam'].append(matches['awayTeam'], ignore_index=True)\n",
    "goals = matches.apply(lambda x: (x['score']['fullTime']['homeTeam'], x['score']['fullTime']['awayTeam']), axis=1)\n",
    "\n",
    "# DataFrame oluşturma\n",
    "team_goals = pd.DataFrame({'Team': teams, 'Goals': goals})\n",
    "\n",
    "# Takımın attığı ve yediği gollerin ayrı ayrı sütunlara ayrılması\n",
    "team_goals[['HomeGoals', 'AwayGoals']] = pd.DataFrame(team_goals['Goals'].tolist(), index=team_goals.index)\n",
    "\n",
    "# Scatter plot oluşturma\n",
    "plt.figure(figsize=(10, 6))\n",
    "plt.scatter(team_goals['HomeGoals'], team_goals['AwayGoals'], alpha=0.5)\n",
    "plt.xlabel('Ev Sahibi Takım Golleri')\n",
    "plt.ylabel('Deplasman Takım Golleri')\n",
    "plt.title('Takımların Attığı ve Yediği Gollerin Dağılımı')\n",
    "plt.grid(True)\n",
    "plt.show()\n"
   ]
  },
  {
   "cell_type": "code",
   "execution_count": 13,
   "metadata": {},
   "outputs": [
    {
     "name": "stdout",
     "output_type": "stream",
     "text": [
      "Total number of matches: 380\n"
     ]
    }
   ],
   "source": [
    "print(\"Total number of matches:\", len(matches))\n"
   ]
  },
  {
   "cell_type": "code",
   "execution_count": null,
   "metadata": {},
   "outputs": [],
   "source": []
  }
 ],
 "metadata": {
  "kernelspec": {
   "display_name": "base",
   "language": "python",
   "name": "python3"
  },
  "language_info": {
   "codemirror_mode": {
    "name": "ipython",
    "version": 3
   },
   "file_extension": ".py",
   "mimetype": "text/x-python",
   "name": "python",
   "nbconvert_exporter": "python",
   "pygments_lexer": "ipython3",
   "version": "3.9.18"
  }
 },
 "nbformat": 4,
 "nbformat_minor": 2
}
