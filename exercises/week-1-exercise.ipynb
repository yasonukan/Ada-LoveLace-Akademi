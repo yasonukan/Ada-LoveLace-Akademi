{
 "cells": [
  {
   "cell_type": "markdown",
   "metadata": {},
   "source": [
    "## Week 1"
   ]
  },
  {
   "cell_type": "markdown",
   "metadata": {},
   "source": [
    "### Exercise 1:\n",
    "Write a function that receives a list as parameter and return how many elements it has; if it doesn't have any element return an error."
   ]
  },
  {
   "cell_type": "markdown",
   "metadata": {},
   "source": [
    "#### Solution 1:"
   ]
  },
  {
   "cell_type": "markdown",
   "metadata": {},
   "source": [
    "##### First Solution"
   ]
  },
  {
   "cell_type": "code",
   "execution_count": 56,
   "metadata": {},
   "outputs": [],
   "source": [
    "def count_elements(list):\n",
    "    \"\"\"\n",
    "    This function counts the number of elements in a list.\n",
    "    \n",
    "    :param list: The list whose elements need to be counted.\n",
    "    :return: If the list is not empty, it returns the number of elements in the list. Otherwise, it returns an error message.\n",
    "    \"\"\"\n",
    "    \n",
    "    # Check if the list is empty\n",
    "    if list:\n",
    "        # If the list is not empty, return the number of elements in the list\n",
    "        return len(list)\n",
    "    else:\n",
    "        # If the list is empty, return an error message\n",
    "        return \"Error: The list is empty!\""
   ]
  },
  {
   "cell_type": "code",
   "execution_count": 55,
   "metadata": {},
   "outputs": [
    {
     "name": "stdout",
     "output_type": "stream",
     "text": [
      "[1, 2, 3, 4, 5] ---> This list has 5 elements.\n",
      "Error: The list is empty!\n",
      "Hello, I'm Yasemin Nukan ---> This list has 24 elements.\n",
      "[\"Hello, I'm Yasemin Nukan\"] ---> This list has 1 elements.\n"
     ]
    }
   ],
   "source": [
    "# Example usage\n",
    "my_first_list = [1, 2, 3, 4, 5]\n",
    "my_second_list = []\n",
    "my_third_list = (\"Hello, I'm Yasemin Nukan\")\n",
    "my_fourth_list = [\"Hello, I'm Yasemin Nukan\"] # Difference between brackets and parentheses: parentheses are used for tuples, while brackets are used for lists.\n",
    "\n",
    "print(f\"{my_first_list} ---> This list has\",count_elements(my_first_list),\"elements.\") # Output: [1, 2, 3, 4, 5] ---> This list has 5 elements.\n",
    "print(count_elements(my_second_list)) # Output: Error: The list is empty\n",
    "print(f\"{my_third_list} ---> This list has\",count_elements(my_third_list),\"elements.\") # Output: Hello, I'm Yasemin Nukan ---> This list has 24 elements.\n",
    "print(f\"{my_fourth_list} ---> This list has\",count_elements(my_fourth_list),\"elements.\") # Output: [\"Hello, I'm Yasemin Nukan\"] ---> This list has 1 elements.\n",
    "\n"
   ]
  },
  {
   "cell_type": "markdown",
   "metadata": {},
   "source": [
    "##### Second Solution ( with Exception Handling )"
   ]
  },
  {
   "cell_type": "code",
   "execution_count": 80,
   "metadata": {},
   "outputs": [],
   "source": [
    "def count_elements(list):\n",
    "    \"\"\"\n",
    "    Function to count the number of elements in a list.\n",
    "    \n",
    "    :param list: List to be processed\n",
    "    :type list: list\n",
    "    :return: Number of elements in the list\n",
    "    :rtype: int\n",
    "    \"\"\"\n",
    "    if not list:\n",
    "        raise ValueError(\"Error: The list is empty!\") # raise is used to explicitly raise an exception or an error. This is particularly useful when you want to manually handle exceptions and errors.\n",
    "    else:\n",
    "        return len(list)"
   ]
  },
  {
   "cell_type": "code",
   "execution_count": 81,
   "metadata": {},
   "outputs": [
    {
     "name": "stdout",
     "output_type": "stream",
     "text": [
      "Error: The list is empty!\n"
     ]
    }
   ],
   "source": [
    "# Example usage\n",
    "my_list = []\n",
    "\n",
    "try:\n",
    "    result = count_elements(my_list)\n",
    "    print(result)  # This will print the number of elements in the list\n",
    "except (ValueError) as error:\n",
    "    print(error)  # This will print the error message\n",
    "\n"
   ]
  },
  {
   "cell_type": "markdown",
   "metadata": {},
   "source": [
    "##### Third Solution (with \"for statement\")"
   ]
  },
  {
   "cell_type": "code",
   "execution_count": 12,
   "metadata": {},
   "outputs": [],
   "source": [
    "def count_elements(item):\n",
    "    \"\"\"\n",
    "    Function to count the number of elements in a given list.\n",
    "    \n",
    "    :param item: List to be processed\n",
    "    :type item: list\n",
    "    :return: Number of elements in the list\n",
    "    :rtype: int\n",
    "    \"\"\"\n",
    "    \n",
    "    # Check if the list is empty\n",
    "    if not item:\n",
    "        raise ValueError(\"Error: The list is empty!\")\n",
    "\n",
    "    # Return the number of elements in the list\n",
    "    return len(item)"
   ]
  },
  {
   "cell_type": "code",
   "execution_count": 14,
   "metadata": {},
   "outputs": [
    {
     "name": "stdout",
     "output_type": "stream",
     "text": [
      "[1, 2, 3, 4, 5] ---> This list has 5 elements.\n",
      "Error: The list is empty!\n",
      "Hello, I'm Yasemin Nukan ---> This non-list has 24 elements.\n",
      "[\"Hello, I'm Yasemin Nukan\"] ---> This list has 1 elements.\n"
     ]
    }
   ],
   "source": [
    "\n",
    "# Lists and other data types\n",
    "lists = [\n",
    "    [1, 2, 3, 4, 5],\n",
    "    [],\n",
    "    \"Hello, I'm Yasemin Nukan\",\n",
    "    [\"Hello, I'm Yasemin Nukan\"]\n",
    "]\n",
    "\n",
    "# Iterate over each list and print the desired output\n",
    "for l in lists:\n",
    "    try:\n",
    "        # For string elements, convert the string to a list first\n",
    "        if isinstance(l, str):  # Check if the element is a string\n",
    "            count = count_elements(list(l))\n",
    "        else:\n",
    "            count = count_elements(l)\n",
    "        \n",
    "        # Print the result for the list element\n",
    "        if isinstance(l, list):\n",
    "            print(f\"{l} ---> This list has {count} elements.\")\n",
    "        else:\n",
    "            print(f\"{l} ---> This non-list has {count} elements.\")  # Print directly for non-list elements\n",
    "        \n",
    "    except ValueError as error:\n",
    "        print(error)  # Handle VallueError exceptions\n"
   ]
  },
  {
   "cell_type": "markdown",
   "metadata": {},
   "source": [
    "### Exercise 2:\n",
    "Write a function that receives a string as parameter and return the number of each character in it."
   ]
  },
  {
   "cell_type": "markdown",
   "metadata": {},
   "source": [
    "##### First Solution (with collections.Counter)"
   ]
  },
  {
   "cell_type": "code",
   "execution_count": 42,
   "metadata": {},
   "outputs": [],
   "source": [
    "# Import the necessary module\n",
    "import collections\n",
    "\n",
    "def count_characters(input_string):\n",
    "    \"\"\"\n",
    "    Function to count the characters in the given string.\n",
    "\n",
    "    :param input_string: String for which we need to count the characters.\n",
    "    :return: Dictionary with the character counts.\n",
    "    \"\"\"\n",
    "    # Use this code to make the sentence lowercase.\n",
    "    # input_string = input_string.lower()\n",
    "\n",
    "    # Use the collections.Counter function to get the character counts\n",
    "    # Counter returns a dictionary with keys as characters and values as their counts\n",
    "    char_counts = collections.Counter(input_string)\n",
    "\n",
    "    return(char_counts)"
   ]
  },
  {
   "cell_type": "code",
   "execution_count": 43,
   "metadata": {},
   "outputs": [
    {
     "data": {
      "text/plain": [
       "Counter({' ': 3,\n",
       "         'e': 2,\n",
       "         'l': 2,\n",
       "         'm': 2,\n",
       "         'a': 2,\n",
       "         'n': 2,\n",
       "         'H': 1,\n",
       "         'o': 1,\n",
       "         '!': 1,\n",
       "         'I': 1,\n",
       "         \"'\": 1,\n",
       "         'Y': 1,\n",
       "         's': 1,\n",
       "         'i': 1,\n",
       "         'N': 1,\n",
       "         'u': 1,\n",
       "         'k': 1})"
      ]
     },
     "execution_count": 43,
     "metadata": {},
     "output_type": "execute_result"
    }
   ],
   "source": [
    "input = \"Hello! I'm Yasemin Nukan\"\n",
    "\n",
    "count_characters(input) # output: Counter({' ': 3, 'e': 2, 'l': 2, 'm': 2, 'a': 2, 'n': 2, 'H': 1, 'o': 1, '!': 1, 'I': 1, \"'\": 1, 'Y': 1, 's': 1, 'i': 1, 'N': 1, 'u': 1, 'k': 1})\n",
    "# collections.Counter is case sensitive! \n",
    "# If it is needed, We can turn into lowercase the sentence in the function part.\n"
   ]
  },
  {
   "cell_type": "markdown",
   "metadata": {},
   "source": [
    "##### Second Solution (without collections.Counter)"
   ]
  },
  {
   "cell_type": "code",
   "execution_count": 48,
   "metadata": {},
   "outputs": [
    {
     "name": "stdout",
     "output_type": "stream",
     "text": [
      "{'H': 1, 'e': 2, 'l': 2, 'o': 1, '!': 1, ' ': 3, 'I': 1, \"'\": 1, 'm': 2, 'Y': 1, 'a': 2, 's': 1, 'i': 1, 'n': 2, 'N': 1, 'u': 1, 'k': 1}\n"
     ]
    }
   ],
   "source": [
    "def count_characters(input_string):\n",
    "    \"\"\"\n",
    "    This function takes a string as input and returns a dictionary with the frequency of each character in the string.\n",
    "\n",
    "    Parameters:\n",
    "        input_string (str): The string whose character frequencies are to be counted.\n",
    "\n",
    "    Returns:\n",
    "        dict: A dictionary with keys as characters and values as the frequency of each character.\n",
    "    \"\"\"\n",
    "    # Use this code to make the sentence lowercase.\n",
    "    # input_string = input_string.lower()\n",
    "    \n",
    "    sum = {}\n",
    "    for char in input_string:\n",
    "        if char in sum:\n",
    "            # If the character is already in the dictionary, increment its count by 1.\n",
    "            sum[char] += 1\n",
    "        else:\n",
    "            # If the character is not in the dictionary, add it with a count of 1.\n",
    "            sum[char] = 1\n",
    "    return sum\n",
    "\n",
    "# Example usage:\n",
    "print(count_characters(\"Hello! I'm Yasemin Nukan\"))"
   ]
  }
 ],
 "metadata": {
  "kernelspec": {
   "display_name": "Python 3",
   "language": "python",
   "name": "python3"
  },
  "language_info": {
   "codemirror_mode": {
    "name": "ipython",
    "version": 3
   },
   "file_extension": ".py",
   "mimetype": "text/x-python",
   "name": "python",
   "nbconvert_exporter": "python",
   "pygments_lexer": "ipython3",
   "version": "3.9.18"
  }
 },
 "nbformat": 4,
 "nbformat_minor": 2
}
